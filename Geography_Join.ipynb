{
 "cells": [
  {
   "cell_type": "code",
   "execution_count": null,
   "metadata": {},
   "outputs": [],
   "source": [
    "import pandas as pd\n",
    "import geopandas as gp\n",
    "import sqlalchemy as sql\n",
    "import pymssql\n",
    "import numpy as np"
   ]
  },
  {
   "cell_type": "code",
   "execution_count": null,
   "metadata": {},
   "outputs": [],
   "source": [
    "def Demographics_Geographis_join (MGRAgeo, demographics, special_district_path):\n",
    "    \n",
    "    # Read in the MGRA Shape File\n",
    "    # Get the MGRA centroids from the B8 database\n",
    "    B8 = sql.create_engine('mssql+pymssql://xxxxxx/')\n",
    "    weighted_centroid = pd.read_sql(MGRAgeo, B8.connect())\n",
    "    #display(weighted_centroid)\n",
    "\n",
    "    # Demographic Data from SQL Server\n",
    "    # Get the demographic data from the Ddam database\n",
    "    ddam = sql.create_engine('mssql+pymssql://xxxxxx/')\n",
    "    demographic_data = pd.read_sql(demographics,con=ddam.connect())\n",
    "\n",
    "    # Get the Shape to the demographic data imported from the database\n",
    "    Joined_table = pd.merge(weighted_centroid, demographic_data, left_on = \"MGRA\", right_on = \"mgra\", how = \"inner\")\n",
    "    # Turn the table to geometry table and set the crs (Coordinate Reference Systems)\n",
    "    Joined_table['Point'] = gp.GeoSeries.from_wkt(Joined_table['Point'])\n",
    "    Joined_table = gp.GeoDataFrame(Joined_table, crs=\"EPSG:2230\", geometry='Point')\n",
    "    \n",
    "    # Sjoin to determine the mgra weighted centroids that are in the Special districts.\n",
    "    Special_District = gp.read_file(special_district_path)\n",
    "    # Set the coordinate system \n",
    "    Special_District = Special_District.to_crs('EPSG:2230')\n",
    "    joined_Geo = gp.sjoin(Joined_table, Special_District, how='right', op='within')\n",
    "\n",
    "    return joined_Geo"
   ]
  },
  {
   "cell_type": "code",
   "execution_count": null,
   "metadata": {},
   "outputs": [],
   "source": [
    "MGRAgeo = \"SELECT [MGRA], [Shape].ToString() AS Point FROM [GeoDepot].[gis].[MGRA13_WEIGHTEDCENTROID]\"\n",
    "\n",
    "demographics = \"\"\"   \n",
    "SELECT d.mgra, g.income_group_id ,g.name AS income, SUM(i.households) AS households\n",
    "FROM demographic_warehouse.fact.household_income i \n",
    "JOIN demographic_warehouse.dim.income_group g ON i.income_group_id = g.income_group_id\n",
    "JOIN demographic_warehouse.dim.mgra_denormalize d ON i.mgra_id = d.mgra_id\n",
    "WHERE datasource_id = 45 AND yr_id = 2021\n",
    "GROUP BY d.mgra, g.name, g.income_group_id\n",
    "ORDER BY d.mgra, g.income_group_id\n",
    "\"\"\"\n",
    "\n",
    "special_district_path = \"SW_Dir_Div/SW_Dir_Divisions.shp\"\n",
    "\n",
    "\n",
    "Demographics_geometry = Demographics_Geographis_join(MGRAgeo,demographics,special_district_path)"
   ]
  }
 ],
 "metadata": {
  "kernelspec": {
   "display_name": "Python 3.9.12 ('SDG')",
   "language": "python",
   "name": "python3"
  },
  "language_info": {
   "name": "python",
   "version": "3.9.12"
  },
  "orig_nbformat": 4,
  "vscode": {
   "interpreter": {
    "hash": "469be40535dcecebf7549e025cec4409341c2145221947a151bff808c9a5a247"
   }
  }
 },
 "nbformat": 4,
 "nbformat_minor": 2
}
